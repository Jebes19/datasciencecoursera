{
 "cells": [
  {
   "cell_type": "markdown",
   "id": "e53890d5",
   "metadata": {},
   "source": [
    "# Exploring Meaning Enhancement through Tokenized Language: A Spam Word Filtering experiment"
   ]
  },
  {
   "cell_type": "markdown",
   "id": "4b559ecc",
   "metadata": {},
   "source": [
    "Email spam is a major problem. Both personally, and globally too many emails received are unwanted and time wasting. It is a detriment to online discourse. \n",
    "\n",
    "Filtering spam emails out, intecepting them before the user ever has to spend attention and time on the email, has been studied and implemented for decades. One of the the earliest methods for filtering was to fit a supervised learning model to the words in a variety of emails which had been classified as spam or not. \n",
    "\n",
    "However, the intent of this project is not to study or improve spam filtering directly. That should probably be handled through much more sophisticated methods. What I want to understand is if tokenizing (link below) the language is a better vehicle for capturing the meaning and intent of the words. I want to compare some of the simpler models that we have studied and directly compare their performance when using the words as written in the emails, and the tokenized versions of those same words. \n",
    "\n",
    "Will simply tokenizing a bag of words enhance the ability of the model to predict spam? "
   ]
  },
  {
   "cell_type": "code",
   "execution_count": 1,
   "id": "330f2d86",
   "metadata": {},
   "outputs": [],
   "source": [
    "import os\n",
    "import re\n",
    "import csv\n",
    "\n",
    "import pandas as pd\n",
    "import numpy as np\n",
    "\n",
    "import matplotlib.pyplot as plt\n",
    "import matplotlib.colors as mcolors\n",
    "from matplotlib.colors import Normalize\n",
    "\n",
    "from transformers import BertTokenizer\n",
    "\n",
    "from IPython.display import IFrame\n",
    "\n",
    "from sklearn.model_selection import train_test_split\n",
    "from sklearn.feature_extraction.text import CountVectorizer\n",
    "from sklearn.metrics import accuracy_score, precision_score, recall_score, f1_score\n",
    "from sklearn.neighbors import KNeighborsClassifier\n",
    "from sklearn.ensemble import AdaBoostClassifier\n",
    "from sklearn.model_selection import cross_val_score, GridSearchCV\n",
    "from sklearn import svm"
   ]
  },
  {
   "cell_type": "code",
   "execution_count": 2,
   "id": "2d3e5cfc",
   "metadata": {},
   "outputs": [
    {
     "data": {
      "text/html": [
       "\n",
       "        <iframe\n",
       "            width=\"1000\"\n",
       "            height=\"200\"\n",
       "            src=\"https://en.wikipedia.org/wiki/Large_language_model#Probabilistic_tokenization\"\n",
       "            frameborder=\"0\"\n",
       "            allowfullscreen\n",
       "            \n",
       "        ></iframe>\n",
       "        "
      ],
      "text/plain": [
       "<IPython.lib.display.IFrame at 0x1fc83031950>"
      ]
     },
     "execution_count": 2,
     "metadata": {},
     "output_type": "execute_result"
    }
   ],
   "source": [
    "# Set the Wikipedia URL for the \"Recall\" section\n",
    "wikipedia_url = 'https://en.wikipedia.org/wiki/Large_language_model#Probabilistic_tokenization'\n",
    "\n",
    "# Display the Wikipedia section in a small window within the Jupyter Notebook cell\n",
    "IFrame(wikipedia_url, width=1000, height=200)"
   ]
  },
  {
   "cell_type": "markdown",
   "id": "05fa3f38",
   "metadata": {},
   "source": [
    "# Data\n",
    "Is the data source properly cited and\n",
    "described? (including links, brief explanations)"
   ]
  },
  {
   "cell_type": "markdown",
   "id": "51844447",
   "metadata": {},
   "source": [
    "The Data chosen for this project comes from kaggle (link below). It is a csv file format containing 5,172 emails broken up by the words counted in those emails. The column headers are the words found in the email and the body of the data are the integer counts of those words. If \"lucky\" appears three times in the email, then the number 3 will apear on the row for that email under the column called \"lucky\". There are 3,000 unique words (features) in this dataset and a label (Prediction) identifying the email as spam (1) or not (0). \n",
    "\n",
    "The size of the whole set is 5,172 (emails) x 3,002 (index + words + label) and all of the datatypes are integers except the first columns which is a string representing each email by a name followed by the number of the email in the list. \n",
    "\n",
    "(https://www.kaggle.com/datasets/balaka18/email-spam-classification-dataset-csv/data)"
   ]
  },
  {
   "cell_type": "markdown",
   "id": "0400c005",
   "metadata": {},
   "source": [
    "## Python Imports"
   ]
  },
  {
   "cell_type": "markdown",
   "id": "3ef49704",
   "metadata": {},
   "source": [
    "# Data"
   ]
  },
  {
   "cell_type": "code",
   "execution_count": 3,
   "id": "4829728e",
   "metadata": {},
   "outputs": [],
   "source": [
    "# Read the data\n",
    "data = pd.read_csv(\"emails.csv\")"
   ]
  },
  {
   "cell_type": "code",
   "execution_count": 4,
   "id": "a6742b97",
   "metadata": {},
   "outputs": [
    {
     "data": {
      "text/html": [
       "<div>\n",
       "<style scoped>\n",
       "    .dataframe tbody tr th:only-of-type {\n",
       "        vertical-align: middle;\n",
       "    }\n",
       "\n",
       "    .dataframe tbody tr th {\n",
       "        vertical-align: top;\n",
       "    }\n",
       "\n",
       "    .dataframe thead th {\n",
       "        text-align: right;\n",
       "    }\n",
       "</style>\n",
       "<table border=\"1\" class=\"dataframe\">\n",
       "  <thead>\n",
       "    <tr style=\"text-align: right;\">\n",
       "      <th></th>\n",
       "      <th>Email No.</th>\n",
       "      <th>the</th>\n",
       "      <th>to</th>\n",
       "      <th>ect</th>\n",
       "      <th>and</th>\n",
       "      <th>for</th>\n",
       "      <th>of</th>\n",
       "      <th>a</th>\n",
       "      <th>you</th>\n",
       "      <th>hou</th>\n",
       "      <th>...</th>\n",
       "      <th>connevey</th>\n",
       "      <th>jay</th>\n",
       "      <th>valued</th>\n",
       "      <th>lay</th>\n",
       "      <th>infrastructure</th>\n",
       "      <th>military</th>\n",
       "      <th>allowing</th>\n",
       "      <th>ff</th>\n",
       "      <th>dry</th>\n",
       "      <th>Prediction</th>\n",
       "    </tr>\n",
       "  </thead>\n",
       "  <tbody>\n",
       "    <tr>\n",
       "      <th>0</th>\n",
       "      <td>Email 1</td>\n",
       "      <td>0</td>\n",
       "      <td>0</td>\n",
       "      <td>1</td>\n",
       "      <td>0</td>\n",
       "      <td>0</td>\n",
       "      <td>0</td>\n",
       "      <td>2</td>\n",
       "      <td>0</td>\n",
       "      <td>0</td>\n",
       "      <td>...</td>\n",
       "      <td>0</td>\n",
       "      <td>0</td>\n",
       "      <td>0</td>\n",
       "      <td>0</td>\n",
       "      <td>0</td>\n",
       "      <td>0</td>\n",
       "      <td>0</td>\n",
       "      <td>0</td>\n",
       "      <td>0</td>\n",
       "      <td>0</td>\n",
       "    </tr>\n",
       "    <tr>\n",
       "      <th>1</th>\n",
       "      <td>Email 2</td>\n",
       "      <td>8</td>\n",
       "      <td>13</td>\n",
       "      <td>24</td>\n",
       "      <td>6</td>\n",
       "      <td>6</td>\n",
       "      <td>2</td>\n",
       "      <td>102</td>\n",
       "      <td>1</td>\n",
       "      <td>27</td>\n",
       "      <td>...</td>\n",
       "      <td>0</td>\n",
       "      <td>0</td>\n",
       "      <td>0</td>\n",
       "      <td>0</td>\n",
       "      <td>0</td>\n",
       "      <td>0</td>\n",
       "      <td>0</td>\n",
       "      <td>1</td>\n",
       "      <td>0</td>\n",
       "      <td>0</td>\n",
       "    </tr>\n",
       "    <tr>\n",
       "      <th>2</th>\n",
       "      <td>Email 3</td>\n",
       "      <td>0</td>\n",
       "      <td>0</td>\n",
       "      <td>1</td>\n",
       "      <td>0</td>\n",
       "      <td>0</td>\n",
       "      <td>0</td>\n",
       "      <td>8</td>\n",
       "      <td>0</td>\n",
       "      <td>0</td>\n",
       "      <td>...</td>\n",
       "      <td>0</td>\n",
       "      <td>0</td>\n",
       "      <td>0</td>\n",
       "      <td>0</td>\n",
       "      <td>0</td>\n",
       "      <td>0</td>\n",
       "      <td>0</td>\n",
       "      <td>0</td>\n",
       "      <td>0</td>\n",
       "      <td>0</td>\n",
       "    </tr>\n",
       "    <tr>\n",
       "      <th>3</th>\n",
       "      <td>Email 4</td>\n",
       "      <td>0</td>\n",
       "      <td>5</td>\n",
       "      <td>22</td>\n",
       "      <td>0</td>\n",
       "      <td>5</td>\n",
       "      <td>1</td>\n",
       "      <td>51</td>\n",
       "      <td>2</td>\n",
       "      <td>10</td>\n",
       "      <td>...</td>\n",
       "      <td>0</td>\n",
       "      <td>0</td>\n",
       "      <td>0</td>\n",
       "      <td>0</td>\n",
       "      <td>0</td>\n",
       "      <td>0</td>\n",
       "      <td>0</td>\n",
       "      <td>0</td>\n",
       "      <td>0</td>\n",
       "      <td>0</td>\n",
       "    </tr>\n",
       "    <tr>\n",
       "      <th>4</th>\n",
       "      <td>Email 5</td>\n",
       "      <td>7</td>\n",
       "      <td>6</td>\n",
       "      <td>17</td>\n",
       "      <td>1</td>\n",
       "      <td>5</td>\n",
       "      <td>2</td>\n",
       "      <td>57</td>\n",
       "      <td>0</td>\n",
       "      <td>9</td>\n",
       "      <td>...</td>\n",
       "      <td>0</td>\n",
       "      <td>0</td>\n",
       "      <td>0</td>\n",
       "      <td>0</td>\n",
       "      <td>0</td>\n",
       "      <td>0</td>\n",
       "      <td>0</td>\n",
       "      <td>1</td>\n",
       "      <td>0</td>\n",
       "      <td>0</td>\n",
       "    </tr>\n",
       "  </tbody>\n",
       "</table>\n",
       "<p>5 rows × 3002 columns</p>\n",
       "</div>"
      ],
      "text/plain": [
       "  Email No.  the  to  ect  and  for  of    a  you  hou  ...  connevey  jay   \n",
       "0   Email 1    0   0    1    0    0   0    2    0    0  ...         0    0  \\\n",
       "1   Email 2    8  13   24    6    6   2  102    1   27  ...         0    0   \n",
       "2   Email 3    0   0    1    0    0   0    8    0    0  ...         0    0   \n",
       "3   Email 4    0   5   22    0    5   1   51    2   10  ...         0    0   \n",
       "4   Email 5    7   6   17    1    5   2   57    0    9  ...         0    0   \n",
       "\n",
       "   valued  lay  infrastructure  military  allowing  ff  dry  Prediction  \n",
       "0       0    0               0         0         0   0    0           0  \n",
       "1       0    0               0         0         0   1    0           0  \n",
       "2       0    0               0         0         0   0    0           0  \n",
       "3       0    0               0         0         0   0    0           0  \n",
       "4       0    0               0         0         0   1    0           0  \n",
       "\n",
       "[5 rows x 3002 columns]"
      ]
     },
     "execution_count": 4,
     "metadata": {},
     "output_type": "execute_result"
    }
   ],
   "source": [
    "data.head()"
   ]
  },
  {
   "cell_type": "markdown",
   "id": "47aba353",
   "metadata": {},
   "source": [
    "# Data Cleaning"
   ]
  },
  {
   "cell_type": "markdown",
   "id": "593c0132",
   "metadata": {},
   "source": [
    "Data Cleaning was specifically focused on turning the words into tokens, since that was the intent of the project. Cleaning  was minimal on this data set for the \"base line\" word analysis. \n",
    "The only cleaning required was to set the index of the frame to the email name/number and remove that column from the analysis. Leaving the email number in the analysis would greatly skew the analysis since the emails are grouped by the label. This would have resulted in the model fitting almost exclusivily to the email number provided or in other words, the order in the list is included in the email name/number and is 100% correlated with the classification, confounding the analysis.  \n",
    "Two helper functions were defined to assist in tokenizing the data. "
   ]
  },
  {
   "cell_type": "code",
   "execution_count": 5,
   "id": "4a9f649a",
   "metadata": {},
   "outputs": [],
   "source": [
    "# Set the first column as the index and remove it from the processing\n",
    "data = data.set_index(data['Email No.'])\n",
    "\n",
    "# Drop the Email No. column. Since the emails are organized as all spam first and then non spam for the rest, the\n",
    "# Email number will directly correlate with the status of the email as spam or not and will crowd out the other features\n",
    "data = data.drop('Email No.', axis=1)"
   ]
  },
  {
   "cell_type": "code",
   "execution_count": 6,
   "id": "36ff0d30",
   "metadata": {},
   "outputs": [],
   "source": [
    "# Create the tokenizer\n",
    "tokenizer = BertTokenizer.from_pretrained(\"bert-base-uncased\", local_files_only=True)"
   ]
  },
  {
   "cell_type": "code",
   "execution_count": 7,
   "id": "5791cbb8",
   "metadata": {},
   "outputs": [],
   "source": [
    "# The email data is in a number format with each value representing the number of times the word appears in the email.\n",
    "# In order to tokenize the email, it must be converted back into words which this helper function does\n",
    "def word_count_to_text(row):\n",
    "    words = []\n",
    "    for word, count in row.items():\n",
    "        # Multiply the count by the word and add it to words\n",
    "        words.extend([word] * count)\n",
    "    return \" \".join(words)\n",
    "\n",
    "# This function performs the tokenizing on the text and returns the tokens\n",
    "def tokenize_text(text):\n",
    "    tokens = tokenizer.tokenize(text)\n",
    "    return \" \".join(tokens)"
   ]
  },
  {
   "cell_type": "code",
   "execution_count": 8,
   "id": "c4b8e6c8",
   "metadata": {},
   "outputs": [],
   "source": [
    "# Define y as the classifier\n",
    "y = data['Prediction']\n",
    "\n",
    "# Define X as the word counts\n",
    "X = data.iloc[:, :-1]\n",
    "\n",
    "# Split the data into test and training\n",
    "X_train_raw, X_test_raw, y_train, y_test = train_test_split(X, y, test_size=0.2, random_state=1)"
   ]
  },
  {
   "cell_type": "code",
   "execution_count": 9,
   "id": "eff23a3e",
   "metadata": {},
   "outputs": [],
   "source": [
    "# Replace the words counts with the actual words to prepare for the next step\n",
    "X_train_words = X_train_raw.apply(word_count_to_text, axis=1)\n",
    "X_test_words = X_test_raw.apply(word_count_to_text, axis=1)"
   ]
  },
  {
   "cell_type": "markdown",
   "id": "f9b3c345",
   "metadata": {},
   "source": [
    "# Exploratory Data Analysis"
   ]
  },
  {
   "cell_type": "markdown",
   "id": "965d5ec3",
   "metadata": {},
   "source": [
    "Reviewing some random of the emails as bags of words provided some interesting perspectives. "
   ]
  },
  {
   "cell_type": "code",
   "execution_count": 10,
   "id": "67293fa0",
   "metadata": {},
   "outputs": [
    {
     "data": {
      "text/plain": [
       "'the the the ect for of a a a a a a a a hou in in on on on on on is i i i i i be be at at s s s s s com as or or me me meter meter re e e e e e e e e e e e e e e e e d d d d was an an t t t t t t t t t t t t t t t t j j j should out no l l l m m m m m m m m m m us day th th th th th month more about nom b b b b p p p production o o o o o o o o o o o o o o c c c he he he list nomination r r r r r r w than f f h h h h h h co u u u u u point product n n n n n n n n n n na september g g must st st pt y listed sept pro mm common ed met met oi prod mb min se mo mo mo da ti ti nat em et et ct ct ut mi po ea le'"
      ]
     },
     "execution_count": 10,
     "metadata": {},
     "output_type": "execute_result"
    }
   ],
   "source": [
    "X_train_words[2]"
   ]
  },
  {
   "cell_type": "code",
   "execution_count": 11,
   "id": "a48e3f64",
   "metadata": {},
   "outputs": [
    {
     "data": {
      "text/plain": [
       "'the the the the the the the the the the the the the the the the the the the the the the the the the the the the the the the the the the the the the the the the the the the the the the the the the the the the the the the the the to to to to to to to to to to to to to to to to to to to to to to to to to to to to to to to to to to to to to to to to to to to to to to to to to to to to to to to to to ect ect ect ect ect ect ect ect ect ect ect ect ect ect ect ect ect ect ect ect ect ect ect ect ect ect ect ect ect ect ect ect ect ect ect ect ect ect ect ect ect ect ect ect ect ect ect ect ect ect ect ect ect ect ect ect ect ect ect ect ect ect ect ect ect ect ect ect ect ect ect ect ect ect ect ect ect ect ect ect ect ect ect ect ect ect ect ect ect ect ect ect ect ect ect and and and and and and and and and and and and and and and and and and and and and and and and for for for for for for for for for for for of of of of of of of of of of of of of of of of of of a a a a a a a a a a a a a a a a a a a a a a a a a a a a a a a a a a a a a a a a a a a a a a a a a a a a a a a a a a a a a a a a a a a a a a a a a a a a a a a a a a a a a a a a a a a a a a a a a a a a a a a a a a a a a a a a a a a a a a a a a a a a a a a a a a a a a a a a a a a a a a a a a a a a a a a a a a a a a a a a a a a a a a a a a a a a a a a a a a a a a a a a a a a a a a a a a a a a a a a a a a a a a a a a a a a a a a a a a a a a a a a a a a a a a a a a a a a a a a a a a a a a a a a a a a a a a a a a a a a a a a a a a a a a a a a a a a a a a a a a a a a a a a a a a a a a a a a a a a a a a a a a a a a a a a a a a a a a a a a a a a a a a a a a a a you you you you you you you you you you you you you you you you you you you you hou hou hou hou hou hou hou hou hou hou hou hou hou hou hou hou hou hou hou hou hou hou hou hou hou hou hou hou hou hou hou hou hou hou hou hou hou hou hou hou hou hou hou hou hou in in in in in in in in in in in in in in in in in in in in in in in in in in in in in in in in in in in in in in in in in in in in in in in in in in in in in in in in in in in in in in in in in in in in in in in in in on on on on on on on on on on on on on on on on on on on on on on on on on on on on on on on on on on on on on on on on on on on on on on on on on on on on on on on on on on on on on on on on on on on on on on on on on on on on on on on on on on on on on on on on on on on on on on on on on is is is is is is is is is is is is is is is is is is is is is is is is is is is is is is is is is is is is is is is is is is is is is is is is this this this this this enron enron enron enron enron enron enron enron enron enron enron enron enron enron enron enron enron i i i i i i i i i i i i i i i i i i i i i i i i i i i i i i i i i i i i i i i i i i i i i i i i i i i i i i i i i i i i i i i i i i i i i i i i i i i i i i i i i i i i i i i i i i i i i i i i i i i i i i i i i i i i i i i i i i i i i i i i i i i i i i i i i i i i i i i i i i i i i i i i i i i i i i i i i i i i i i i i i i i i i i i i i i i i i i i i i i i i i i i i i i i i i i i i i i i i i i i i i i i i i i i i i i i i i i i i i i i i i i i i i i i i i i i i i i i i i i i i i i i i i i i i i i i i i i i i i i i i i i i i i i i i i i i i i i i i i i i i i i i i i i i i i i i i i i i i i i i i i i i i i i i i i i i i i i i i i i i i i i i i i i i i i i i i i i i i i i i be be be be be be be be be be be be be be be be be be be be be be be be be be be be be be be be be be be be that that that that that that that that that that that that that will will will will will will will will will will will will will will have have have have have with with with with with with with your your your your your your your your at at at at at at at at at at at at at at at at at at at at at at at at at at at at at at at at at at at at at at at at at at at at at at we we we we we we we we we we s s s s s s s s s s s s s s s s s s s s s s s s s s s s s s s s s s s s s s s s s s s s s s s s s s s s s s s s s s s s s s s s s s s s s s s s s s s s s s s s s s s s s s s s s s s s s s s s s s s s s s s s s s s s s s s s s s s s s s s s s s s s s s s s s s s s s s s s s s s s s s s s s s s s s s s s s s s s s s s s s s s s s s s s s s s s s s s s s s s s s s s s s s s s s s s s s s s s s s s s s s s s s s s s s s s s s s s s s s s s s s s s s s s s s s s s s s s s s s s s s s s s s s s s s s s s s s s s s s s s s s s s s s s s s s s s s s s s s s s s s s s s s s s s s s s s s s s s s s s s s s s s s s s s s s s s s s s s s s s s s s s s s s s s s s s s s s s s s s s s s s s s s s s s s s s s s s are are are are are are it it it it it it it it it it it it it it it it it it it it it it it it by by by by com com com com com com com com com com com as as as as as as as as as as as as as as as as as as as as from from from from from from or or or or or or or or or or or or or or or or or or or or or or or or or or or or or or or or or or or or or or or or or or or or or or or or or or or or or or or or not not not not not not not not not not not me me me me me me me me me me me me me me me me me me me me me me me me me me me me me me me me me me me me if if if if if if if if please please please re re re re re re re re re re re re re re re re re re re re re re re re re re re re re re re re re re re re re re re re re re re re re re re re re re re re re re re re e e e e e e e e e e e e e e e e e e e e e e e e e e e e e e e e e e e e e e e e e e e e e e e e e e e e e e e e e e e e e e e e e e e e e e e e e e e e e e e e e e e e e e e e e e e e e e e e e e e e e e e e e e e e e e e e e e e e e e e e e e e e e e e e e e e e e e e e e e e e e e e e e e e e e e e e e e e e e e e e e e e e e e e e e e e e e e e e e e e e e e e e e e e e e e e e e e e e e e e e e e e e e e e e e e e e e e e e e e e e e e e e e e e e e e e e e e e e e e e e e e e e e e e e e e e e e e e e e e e e e e e e e e e e e e e e e e e e e e e e e e e e e e e e e e e e e e e e e e e e e e e e e e e e e e e e e e e e e e e e e e e e e e e e e e e e e e e e e e e e e e e e e e e e e e e e e e e e e e e e e e e e e e e e e e e e e e e e e e e e e e e e e e e e e e e e e e e e e e e e e e e e e e e e e e e e e e e e e e e e e e e e e e e e e e e e e e e e e e e e e e e e e e e e e e e e e e e e e e e e e e e e e e e e e e e e e e e e e e e e e e e e e e e e e e e e e e e e e e e e e e e e e e e e e e e e e e e e e e e e e e e e e e e e e e e e e e e e e e e e e e e e e e e e e e e e e e e e e e e e e e e e e e e e e e e e e e e e e e e e e e e e e e e e e e e e e e e e e e e e e e e e e e e e e e e e e e e e e e e e e e e e e e e e e any our our our our our our our our our our our our our our our our our our our our our our our corp corp corp corp corp can can can can can d d d d d d d d d d d d d d d d d d d d d d d d d d d d d d d d d d d d d d d d d d d d d d d d d d d d d d d d d d d d d d d d d d d d d d d d d d d d d d d d d d d d d d d d d d d d d d d d d d d d d d d d d d d d d d d d d d d d d d d d d d d d d d d d d d d d d d d d d d d d d d d d d d d d d d d d d d d d d d d d d d d d d d d d d d d d d d d d d d d d d d d d d d d d d d all all all all all all all all all all all all all all all all all all has know need need need need an an an an an an an an an an an an an an an an an an an an an an an an an an an an an an an an an an an an an an an an an an an an an an an an forwarded forwarded t t t t t t t t t t t t t t t t t t t t t t t t t t t t t t t t t t t t t t t t t t t t t t t t t t t t t t t t t t t t t t t t t t t t t t t t t t t t t t t t t t t t t t t t t t t t t t t t t t t t t t t t t t t t t t t t t t t t t t t t t t t t t t t t t t t t t t t t t t t t t t t t t t t t t t t t t t t t t t t t t t t t t t t t t t t t t t t t t t t t t t t t t t t t t t t t t t t t t t t t t t t t t t t t t t t t t t t t t t t t t t t t t t t t t t t t t t t t t t t t t t t t t t t t t t t t t t t t t t t t t t t t t t t t t t t t t t t t t t t t t t t t t t t t t t t t t t t t t t t t t t t t t t t t t t t t t t t t t t t t t t t t t t t t t t t t t t t t t t t t t t t t t t t t t t t t t t t t t t t t t t t t t t t t t t t t t t t t t t t t t t t t t t t t t t t t t t t t t t t t t t t t t t t t t t t t t t t t t t t t t t t t t t t t t t t t t t t t t t t t t t t t t t t t t t t t t t t t t may up up up up up up up j j j j j j j j j j j should should should should do am am am am am am am am am am am get out out no no no no no no no no no no no no no no no no no no no no there price price daren but but but but but been l l l l l l l l l l l l l l l l l l l l l l l l l l l l l l l l l l l l l l l l l l l l l l l l l l l l l l l l l l l l l l l l l l l l l l l l l l l l l l l l l l l l l l l l l l l l l l l l l l l l l l l l l l l l l l l l l l l l l l l l l l l l l l l l l l l l l l l l l l l l l l l l l l l l l l l l l l l l l l l l l l l l l l l l l l l l l l l l l l l l l l l l l l l l l l l l these these let so so so so so so so so so so so so so so so so so so so so so so so so so would would would would would would would m m m m m m m m m m m m m m m m m m m m m m m m m m m m m m m m m m m m m m m m m m m m m m m m m m m m m m m m m m m m m m m m m m m m m m m m m m m m m m m m m m m m m m m m m m m m m m m m m m m m m m m m m m m m m m m m m m m m m m m m m m m m m m m m m m m m m m m m m m m m m into into farmer us us us us us us us us us us us us us us us us us us us us us us us us us us us us us us us us us us us us they they they message day day day time time time one what th th th th th th th th th th th th th th th th th th th th th th th th th th th th th th th th th th th th th th th th th th th th th th th th th th th th th th th th th th th th th th th th th th th th th th th th th th th th th th th th th th th th th th th th th th th th th th th th th th th th which month robert robert about energy pec pec pec questions pm pm pm now their their their their their some some some also here here here like like b b b b b b b b b b b b b b b b b b b b b b b b b b b b b b b b b b b b b b b b b b b b b b b b b b b b b b b b b b b b b b b b b b b b b b b b b b b b b b b b b b b b b b b p p p p p p p p p p p p p p p p p p p p p p p p p p p p p p p p p p p p p p p p p p p p p p p p p p p p p p p p p p p p p p p p p p p p p p p p p p p p p p p p p p p p p p p p p p p p p p p p p p p p p p p p p p p p p p p p p p p p p p p p p p p p p p p p p p when over over back back back want want below below below o o o o o o o o o o o o o o o o o o o o o o o o o o o o o o o o o o o o o o o o o o o o o o o o o o o o o o o o o o o o o o o o o o o o o o o o o o o o o o o o o o o o o o o o o o o o o o o o o o o o o o o o o o o o o o o o o o o o o o o o o o o o o o o o o o o o o o o o o o o o o o o o o o o o o o o o o o o o o o o o o o o o o o o o o o o o o o o o o o o o o o o o o o o o o o o o o o o o o o o o o o o o o o o o o o o o o o o o o o o o o o o o o o o o o o o o o o o o o o o o o o o o o o o o o o o o o o o o o o o o o o o o o o o o o o o o o o o o o o o o o o o o o o o o o o o o o o o o o o o o o o o o o o o o o o o o o o o o o o o o o o o o o o o o o o o o o o o o o o o o o o o o o o o o o o o o o o o o o o o o o o o o o o o o o o o o o o o o o o o o o o o o o o o o o o o o o o o o o o o o o o o o o o o o o o o o o o o o o o o o o o o o o o o o o o o o o o o o o o o o o o o o o o o o o o o o o o o o o o o c c c c c c c c c c c c c c c c c c c c c c c c c c c c c c c c c c c c c c c c c c c c c c c c c c c c c c c c c c c c c c c c c c c c c c c c c c c c c c c c c c c c c c c c c c c c c c c c c c c c c c c c c c c c c c c c c c c c c c c c c c c c c c c c c c c c c c c c c c c c c c c c c c c c c c c c c c c c c c c c c c c c c c c c c c c c c c c c c c c c c c c c c c c c c c c c c c c c c c c c c c c c c c c c c c c c c c c c c c c c c c c c c c c c c c c c c c c c c c c c c c c c c c c c c c c c c c c c c c c c c he he he he he he he he he he he he he he he he he he he he he he he he he he he he he he he he he he he he he he he he he he he he he he he he he he he he he he he he he he he he he he he he he he he he he he he he he he he he he he he he he he make contact list list list thanks thanks business business business business business per per per per per per per through through through forward forward use use use order r r r r r r r r r r r r r r r r r r r r r r r r r r r r r r r r r r r r r r r r r r r r r r r r r r r r r r r r r r r r r r r r r r r r r r r r r r r r r r r r r r r r r r r r r r r r r r r r r r r r r r r r r r r r r r r r r r r r r r r r r r r r r r r r r r r r r r r r r r r r r r r r r r r r r r r r r r r r r r r r r r r r r r r r r r r r r r r r r r r r r r r r r r r r r r r r r r r r r r r r r r r r r r r r r r r r r r r r r r r r r r r r r r r r r r r r r r r r r r r r r r r r r r r r r r r r r r r r r r r r r r r r r r r r r r r r r r r r r r r r r r r r r r r r r r r r r r r r r r r r r r r r r r r r r r r r r r r r r r r r r r r r r r r r r r r had had set set set set go go go go go line line w w w w w w w w w w w w w w w w w w w w w w w w w w w w w w w w w w w w w w w w w w w w w w w w w w w w w w w w w w w w w w w w x x x x x x x x x she she she she she north north north america america america under under under under under under under under under under under next than than service k k k k k k k k k k k k k k k k k k k k k k k k k k k work work work group group group group year year year year year year year year think think each each each each each each each each each f f f f f f f f f f f f f f f f f f f f f f f f f f f f f f f f f f f f f f f f f f f f f f f f f f f f f f f f f f f f f f f f f f f h h h h h h h h h h h h h h h h h h h h h h h h h h h h h h h h h h h h h h h h h h h h h h h h h h h h h h h h h h h h h h h h h h h h h h h h h h h h h h h h h h h h h h h h h h h h h h h h h h h h h h h h h h h h h h h h h h h h h h h h h h h h h h h h h h h h h h h h h h h h h h h h h h h h h h h h h h h h h h h h h h h h h h h h h h h h h h h h h h h h h h h h h h h h h h h h h h h h h h h h h h h h h h h h h h h h h h h h h h h smith ll ll ll ll ll ll ll ll ll ll ll ll ll ll ll ll ll ll ll ll ll ll ll ll ll ll ll ll ll ll ll ll ll ll ll ll ll ll co co co co co co co co co co co co co co co co co co co co co co co co co co co did did did did did did u u u u u u u u u u u u u u u u u u u u u u u u u u u u u u u u u u u u u u u u u u u u u u u u u u u u u u u u u u u u u u u u u u u u u u u u u u u u u u u u u u u u u u u u u u u u u u u u u u u u u u u u u u u u u u u u u u u u u u u u u u u u u u u u u u u u u u u u u u u u u u u u u u u u u u u u u u u u u u u u u u u u u u u u u u u u u u u u u u u u u u u u u u u u u u u u u u u u u u u u u u then his his his his his same point point point product product pat iv iv iv iv iv iv iv above above sure sure sure n n n n n n n n n n n n n n n n n n n n n n n n n n n n n n n n n n n n n n n n n n n n n n n n n n n n n n n n n n n n n n n n n n n n n n n n n n n n n n n n n n n n n n n n n n n n n n n n n n n n n n n n n n n n n n n n n n n n n n n n n n n n n n n n n n n n n n n n n n n n n n n n n n n n n n n n n n n n n n n n n n n n n n n n n n n n n n n n n n n n n n n n n n n n n n n n n n n n n n n n n n n n n n n n n n n n n n n n n n n n n n n n n n n n n n n n n n n n n n n n n n n n n n n n n n n n n n n n n n n n n n n n n n n n n n n n n n n n n n n n n n n n n n n n n n n n n n n n n n n n n n n n n n n n n n n n n n n n n n n n n n n n n n n n n n n n n n n n n n n n n n n n n mary mary mary mary mary vance said said still people people best best actual actual very very end end end end end end end end end end end end end end end end end end tu tu tu tu tu her her her her her her her her her her her her team process process process process process again subject subject subject subject subject na na na na na na na na na na na na lisa ve ve ve ve ve ve ve ve ve ve ve ve ve ve ve ve ve ve ve ve ve where where g g g g g g g g g g g g g g g g g g g g g g g g g g g g g g g g g g g g g g g g g g g g g g g g g g g g g g g g g g g g g g g g g g g g g g g g g g g g g g g g g g g g issue place date date clynes meeting meeting meeting meeting meeting meeting meeting meeting meeting meeting meeting meeting meeting susan susan id id id id id id id id id id id id id id id id id id id id id fee fee fee additional additional additional data michael michael michael provide provide provide note note tuesday tuesday review review long long must must must v v v v v v v v v v v v v v v v v v v v v v v v v v v v v v v v v v v v v v v v v nd nd nd nd nd nd nd nd nd nd nd nd nd nd nd nd nd nd nd nd nd nd nd nd nd nd nd nd nd nd nd nd nd nd nd nd nd nd nd nd nd nd nd nd nd nd nd nd nd nd nd nd nd nd nd nd nd nd nd nd nd nd steve steve steve prior prior prior prior prior prior prior hanks hanks possible months used used used believe st st st st st st st st st st st st st st st st st st st st st st st st st st st st st st st st st st st st st st st st come correct correct low low low low once once performance manager needed needed needed doc act act act act issues form form interest xp xp xp plan allen wynne add add add pt pt pt y y y y y y y y y y y y y y y y y y y y y y y y y y y y y y y y y y y y y y y y y y y y y y y y y y y y y y y y y y y y y y y y y y y y y y y y y y y y y y y y y y y y y y y y y y y y ees ees ees ees rita employees employees employees employees real real professional quality brenda brenda brenda brenda brenda brenda around im im im im im im im im im case fact fact too too too love love full wanted ic ic ic ic ic ic ic ic ic ic ic ic ic ic ic ic ic ic scott scott addition addition addition clear small small meet meet meet meet meet meet meet meet meet meet meet meet meet herod herod herod herod herod herod beginning try question feedback feedback feedback necessary man man de de de de de de de de de de de de de de de de de de de de de de de de de de de de thomas thomas thought thought view view probably probably probably important interested value thank thank mid mid thu late late late direct direct ces ces ces ces ces ces ces discuss discuss discuss discuss discuss discuss discuss discuss discuss discuss discuss discuss discuss discuss discuss discuss pro pro pro pro pro pro pro pro pro pro pro pro pro pro pro pro pro pro pro pro pro pro pro pro pro pro pro pro therefore rd rd rd rd rd rd expect expect expect el el el el el el el el begin cs talk trying oo oo oo oo required ali ali ali allow mm mm mm mm mm mm mm ensure ensure ensure hall though though jeff jeff general general points understand understand understand understand understand understand employee employee employee employee employee employee employee employee employee albrecht albrecht expectations expectations staff listing listing listing sally sally sally sally sally sally sally sally sally sally stay superty superty super super super appreciate occur mar mar mar mar mar format held mind ua ua ua ua ua ua ua ua ua rest communications communications communications communications director director safe document eric eric eric cc cc cc cc cc cc cc cc cc cc discussion discussion discussion discussion discussion discussion discussion discussion discussion discussion al al al al al al al al al al al al al al al al al al al al al al al al al al al al al al al al al al al al al al al al al al al al al al al men men men men men men men confidential reach reach prc prc prc prc prc prc prc prc prc prc prc prc prc prc rc rc rc rc rc rc rc rc rc rc rc rc rc rc communication communication communication communication concerns wi wi wi wi wi wi wi wi wi wi wi wi wi wi wi wi wi wi wi wi wi wi wi discussions discussions discussions la la la la la la la la la la la la groups groups nor nor nor nor nor nor nor role role promotions promotions promotions appropriate media require identified suggest manage usa usa success primary primary notes notes ei ei ei ei ei ei ei ei pre gain age age age age age age age age age age discussed discussed ext ext ext ones ed ed ed ed ed ed ed ed ed ed ed ed ed ed ed ed ed ed ed ed ed ed ed ed ed ed ed ed means along along ex ex ex ex ex ex ex br br br br br br br br br br est est est est est est far range providing analysis focus focus red planning wilson wilson item item sa sa sa sa sa sa sa sa sa sa sa sa sa sa sa sa sa sa sa oi oi oi csikos arrangements ca ca ca ca ca ca ca ca ca ca ca ca ca ca ca ca ca ca ca ca ca ca ca ca ca ca ca prod prod committee committee individual individual individual individual critical hl hl hl dr immediate goals goals arrangement mean indicate indicate understood understood understood hi hi hi hi hi hi hi hi hi jackson jackson z z z z z serve additionally additionally additionally q q q cap cap cap cap cap cap san san mb gr gr gr gr gr rev rev lines lines en en en en en en en en en en en en en en en en en en en en en en en en en en en en en en en en en en en en en en en en en en en en en en en en en en en en en en en en en en en en en en en en en en en en en en throughout six six build hr hr hr hr concern rm rm rm rm rm stephen stephen stand stand stand stand stand stand harris harris min advance venturatos ga ga ga ga cal cal cal main main step step beck beck port port glover glover dates dates eff eff eiben villarreal villarreal lon lon se se se se se se se se se se se se se se se se se se se se se eb brent brent yvette mo mo mo mo mo mo mo mo mo mo mo mo mo mo mo mo mo mo tr tr tr tr tr tr tr tr tr tri tri ce ce ce ce ce ce ce ce ce ce ce ce ce ce ce ce fully da da da da da da da da da da da da da da da da da da da da da vice managers identify ad ad ad ad ad ad ad ad ti ti ti ti ti ti ti ti ti ti ti ti ti ti ti ti ti ti ti ti ti ti ti ti ti ti ti ti ti ti ti ti ti ti ti ti ti ti ti ti ti ti ti ti ti ti ti ti ti ti ti ti ti ti ti ti ti ti noon fyi rom rom rom rom rom rom rom rom rom rom rom rom rom rom rom rom rom rom rom rom responsibilities son son son son son son son son son son son son tim tim tim rules hector hector hector hector rr rr rr rr rr rr rr lease lease lease rule rule distribute sheri sheri dl dl understands promotion promotion promotion promotion promotion promotion promotion promotion promotion promotion promotion promotion den den den em em em em em em em em em em em em em em em em mcloughlin mcloughlin mcloughlin pa war war war war war war ls ls ls ls ls responsibility deadline deadline oba oba oba und und und und und und und und und und und und und ref et et et et et et et et et et et et et et et et et et et et un un un un un un un un un un un un un un un un un un un un iso iso iso round round confidentiality ma ma ma ma ma ma ma ma ma ma ma ma ma ma ma ma ma ma goal goal goal mai mai ten ten ten reminder anti ac ac ac ac ac ac ac ac ac ac ac ac ac ac ac ac ac ac ac ac ac ac ac ac peggy peggy ct ct ct ct ct ct ct ct ct ct ct ct ct ct ct ct ct ct ct ct ct ct ct ct ct ct ct ct ct ct ct ct ct ct ct ct ct ct ct ct ct ct ct ct ct ct ct ct ct ct ct ct ct ct ct ct ct ct ct ct ct ct ct ct ct ct ct ct ct ct ct ct ct ct ct ct ct ct ct ct ct ct ct ct ct ct ct ct ct ct ct ct ct ct ct ct ct ct ct ct ct ct cia agenda agenda agenda agenda agenda agenda agenda agenda gap ut ut ut ut ut ut ut wil wil wil wil wil wil wil wil wil wil wil wil wil wil wil wil glo glo isc isc isc isc isc isc isc isc isc isc isc isc isc isc isc isc tie mi mi mi mi mi mi mi mi mi po po po po po po po po sp sp ea ea ea ea ea ea ea ea ea ea ea ea ea ea ea ea ea ea ea ea ea ea ea ea ea ea ea ea lunch le le le le le le le le le le le le le le le le le till der der der der der der der der der der der der der ur ur ur ur ur ur ur ur ur ur ur ur ur ur ur ur ur ur ur ur ur ur ur ur ur ur ur ur ward ward ward ward aren tue tue towards towards clarification solmonson solmonson valued ff ff ff'"
      ]
     },
     "execution_count": 11,
     "metadata": {},
     "output_type": "execute_result"
    }
   ],
   "source": [
    "X_train_words[20]"
   ]
  },
  {
   "cell_type": "code",
   "execution_count": 12,
   "id": "a3db881c",
   "metadata": {},
   "outputs": [
    {
     "data": {
      "text/plain": [
       "'the the to to to to to to ect ect and and for for for for of of of of of of of a a a a a a a a a a a a a a a a a a a a a a a a a a a a a a a a a you you hou in in in in in in in in on on on on on on on on on is is is is is is is is is is this this this this i i i i i i i i i i i i i i i i i i i i i i i i i i i i i i i i i i i i i be be be have your your at at at we s s s s s s s s s s s s s s s s s s s s s s s s s s s s s s s s s s s s s s s s s s s s are it it it it com as as or or or or or or not not not me me me me if please re re re re e e e e e e e e e e e e e e e e e e e e e e e e e e e e e e e e e e e e e e e e e e e e e e our our d d d d d d d d d d d d d d d d d d d d d d d d an an an an an t t t t t t t t t t t t t t t t t t t t t t t t t t t t t t t t t t t t t t t t t t t t t t t t up j j j should do do do do do am am get no no no l l l l l l l l l l l l l l l l so so so so m m m m m m m m m m m m m m m m m m m m information message message time one http th th th th th th th th th mail month email b b b b b p p p p p p p p p p p p p p p p p o o o o o o o o o o o o o o o o o o o o o o o o o o o o o o o o o o o o o o o o o o o o o o o o o o o o o o o o o o o c c c c c c c c c c c c c c c c c c c c he he system r r r r r r r r r r r r r r r r r r r r r r r r r r r r r r set go w w w w w w w w x x x under january off k k k k f f f f f f f f f f f f f f f f f f h h h h h h h h h h h h h h h h h h h h h h sent co co co co co co co co office u u u u u u u u u u u u u u u u u u u his his his his product n n n n n n n n n n n n n n n n n n n n n n n n n n n n n n n n n n n n n n n account very home tu info info info info na ve ve g g g g g g g g g g g g g g date jan jan reply note every v v nd nd nd nd nd nd nd phone software st st st details form form xp top firm update suite y y y y y y y y y y y professional confirm im ic ic ic ic ic soft soft soft united mobil ever dow dow de de de microsoft everything direct pro pro pro el unit cs cs directly oo oo thing ltd king understanding quick understand adobe content won sun mr format format photoshop ua cc al al al hot notes age age ed gd draw sa sa prod chris td inform inform quickly mobile dr dr dr shop updates hi hi hi hi hi hi q gra gr en en en contents hr rm rm rm stand detail dates se se se rock mo mo tr tri ce da ad graphics ti ti ti ft ft ft tim pi lease dl em em em pa war ls count und et et et un un un un ma ma ma ma ma mai ten ac ct ct ct ct ail ail mi ea christmas forth le le le kin der ur ur ur corel tm trial ff ff'"
      ]
     },
     "execution_count": 12,
     "metadata": {},
     "output_type": "execute_result"
    }
   ],
   "source": [
    "X_train_words[200]"
   ]
  },
  {
   "cell_type": "code",
   "execution_count": 13,
   "id": "f726987f",
   "metadata": {},
   "outputs": [
    {
     "data": {
      "text/plain": [
       "'the the the the the the to to to to to ect ect ect ect ect ect ect ect and and and and for for for of of of a a a a a a a a a a a a a a a a a a a a a a a a a a a a a a a a a a a a a a a you you hou in in in in in in in in in in in in on on on on on on on on on on on on is is is is is this i i i i i i i i i i i i i i i i i i i i i i i i i i i i i i i be be be be that at at at at at at at we we s s s s s s s s s s s s s s s s s s s s s s s s s s s s s s s s s s s s s s are by by as as as as as from gas gas gas or or or or or or or not not me me me re re re re re re e e e e e e e e e e e e e e e e e e e e e e e e e e e e e e e e e e e e e e e e e e e e e e e e e e e e e e e e e e e e e e e e can d d d d d d d d d d d d d d d d d d d d d d d d d d need an an an an an an an an an an forwarded t t t t t t t t t t t t t t t t t t t t t t t t t t t t t t t t t t t t t t t t t t t t t t t t up j j j j j j j j j j do am out no no no no no l l l l l l l l l l l l so m m m m m m m m m m m m m m m m m m m m m m m us us us message day day day day day day th th th th th th th th th th th th th month month pm pm pm pm b b b b b b b b b b b b p p p p p p p p p p p p original o o o o o o o o o o o o o o o o o o o o o o o o o o o o o o o o o o o o o o o o o o o o o o o o o c c c c c c c c c c c c c c c c c c c c c c c c c c c c c he he he he he he he he he days days thanks business business business help forward r r r r r r r r r r r r r r r r r r r r r r r r r r r r r r r r r r r r r r r r r w w w than last k f f f f f f f h h h h h h h h h h h h h h h h h h h h h h h h sent ll ll ll co co co co co co u u u u u u u u u u u u u u u his does iv give n n n n n n n n n n n n n n n n n n n n n n n n n n n n n n n n n n n n n n n n n n n n n n n n n mary mary tu her her monday subject subject december na ve ve ve ve g g g g g g g g g g g g g g date john john john november november november id tuesday v v v v v nd nd nd nd nd prior prior hanks regarding dec st st st st st pricing pricing pricing wednesday update y y y y y y y y y y y y y y im im im ranch ranch ranch ic ic ic ic ic notice notice de de lp thank close pro rd rd rd el el nov nov nov johnson lose mar mar darren cc cc al rc rc rc select estimate estimate estimate la interconnect interconnect interconnect age ed ed ed ed est est est sa ca jo jo jo jo jo dr dr dr selected mean hi aug aug mb mb mb mb wed en en hol min sum ga ga ga ga se se se holiday mo mo mo ce ce ce da da da da da da da da da da ti ti ti ti ti rom son tim tim tim rr em em em em war ma ma ma ma ma ct ct ct ct ct ct ct ct ut isc isc isc mi connect connect connect ea le las ward tue driscoll driscoll driscoll'"
      ]
     },
     "execution_count": 13,
     "metadata": {},
     "output_type": "execute_result"
    }
   ],
   "source": [
    "X_train_words[3500]"
   ]
  },
  {
   "cell_type": "markdown",
   "id": "a6b7ae7d",
   "metadata": {},
   "source": [
    "Looking at the Data from a word count point of view, it is was difficult to detect any problems with this datset. However, browsing through the emails from a bag of words point of view immediately brought to light the sketchy nature of this dataset. The number of single letter and pieces of words in the emails indicates that there is something wrong with these emails, or at least, they are not anything like a typical email I have recieved, spam or not. The words are not in the original order, but it is difficult to see how the emails were ever written with so many of these single letters and two letter words. \n",
    "\n",
    "At minimum, since I am looking for tokenization of these words to see if it can help detect meaning, and the meaning inherent in even the non-spam emails is in doubt, this does not appear to be an acceptable data source. "
   ]
  },
  {
   "cell_type": "markdown",
   "id": "eb2cb1ae",
   "metadata": {},
   "source": [
    "# Attempt 2\n",
    "# Data"
   ]
  },
  {
   "cell_type": "markdown",
   "id": "ca3f18ee",
   "metadata": {},
   "source": [
    "I found another source of spam emails on a website called spam assassin. This data is specifically intended to be used by spam filters and should represent a much higher quality dataset for my purposes. \n",
    "\n",
    "https://spamassassin.apache.org/old/publiccorpus/"
   ]
  },
  {
   "cell_type": "markdown",
   "id": "65989359",
   "metadata": {},
   "source": [
    "The downloads consist of several packages of emails, obtained from a forum where good examples of spam and non-spam (referred to as \"Ham\" in this dataset) were requested. The emails are organized into separate downloads, including categories of \"easy ham\" and \"hard ham\" to indicate the assumed difficulty in distinguishing them. \"Easy ham\" refers to the obviously non-spam, narrative form emails, while \"hard ham\" includes news group and automated emails that may resemble spam at first glance but are actually desired information."
   ]
  },
  {
   "cell_type": "markdown",
   "id": "0e40c7ba",
   "metadata": {},
   "source": [
    "# Data Cleaning"
   ]
  },
  {
   "cell_type": "markdown",
   "id": "a52f6aa1",
   "metadata": {},
   "source": [
    "The emails were more or less raw HTML and included the tehcnical handling informaiton for the email server. They were separated into header and body by looking for a simple empty line break. It was not a perfect separation, but it worked well enough for this purpose. There were less than 1% of the emails which contained some unreadable character or unique encoding, but those errors were ignored and characters removed. "
   ]
  },
  {
   "cell_type": "code",
   "execution_count": 14,
   "id": "21d62dd7",
   "metadata": {},
   "outputs": [],
   "source": [
    "def parse_email(lines):\n",
    "    header = []\n",
    "    body = []\n",
    "    is_body = False\n",
    "\n",
    "    for line in lines:\n",
    "        line = re.sub(r'[^a-zA-Z\\s]', '', line).lower()  # Remove non-letter characters and capitalization\n",
    "        line = line.strip()  # Remove newlines\n",
    "        if is_body:\n",
    "            body.append(line)\n",
    "        elif line.strip() == \"\":\n",
    "            is_body = True\n",
    "        else:\n",
    "            header.append(line)\n",
    "\n",
    "    return \" \".join(header), \" \".join(body)\n",
    "\n",
    "def read_and_write(email_folder, output_csv):\n",
    "    with open(output_csv, 'w', newline='', encoding='utf-8') as csvfile:\n",
    "        csv_writer = csv.writer(csvfile)\n",
    "        csv_writer.writerow(['Header', 'Body'])\n",
    "\n",
    "        for email in os.listdir(email_folder):\n",
    "            with open(os.path.join(email_folder, email), encoding='utf-8', errors='ignore') as f:\n",
    "                raw_contents = f.readlines()\n",
    "                header, body = parse_email(raw_contents)\n",
    "                csv_writer.writerow([header, body])\n",
    "\n",
    "spam_email_folder = \"Spam\"\n",
    "spam_csv = \"spam.csv\"\n",
    "read_and_write(spam_email_folder, spam_csv)\n",
    "\n",
    "ham_email_folder = \"Ham\"\n",
    "ham_csv = \"ham.csv\"\n",
    "read_and_write(ham_email_folder, ham_csv)"
   ]
  },
  {
   "cell_type": "markdown",
   "id": "2b6c76d2",
   "metadata": {},
   "source": [
    "## Conversion to word count format"
   ]
  },
  {
   "cell_type": "markdown",
   "id": "d2edaac9",
   "metadata": {},
   "source": [
    "This dataset required the opposite treatment from the last, where the emails are already in the text format, ready for transformation to tokens. "
   ]
  },
  {
   "cell_type": "code",
   "execution_count": 15,
   "id": "803ba5d7",
   "metadata": {},
   "outputs": [],
   "source": [
    "def convert_to_word_counts(csv_file, predictor):\n",
    "    data = pd.read_csv(csv_file)\n",
    "\n",
    "    # Extract the body columns\n",
    "    body_lines = data['Body']\n",
    "\n",
    "    # Create an empty list to store word counts\n",
    "    word_count_list = []\n",
    "\n",
    "    for text in body_lines:\n",
    "        words = text.split()\n",
    "        # Create a dictionary to store word counts\n",
    "        word_counts = {}\n",
    "        # Iterate through the words\n",
    "        for word in words:\n",
    "            word_counts[word] = word_counts.get(word, 0) + 1\n",
    "\n",
    "        # Add a column called \"Prediction\" with all 1's or 0's depending on if these are spam or ham\n",
    "        word_counts['Prediction'] = predictor\n",
    "        # Append the word_counts dictionary to the word_count_list\n",
    "        word_count_list.append(word_counts)\n",
    "\n",
    "    # Convert the word_count_list to a dataframe\n",
    "    word_count_df = pd.DataFrame(word_count_list)\n",
    "\n",
    "    return word_count_df\n",
    "\n",
    "# Data processing is very intesnse to run the code below due to the large data size. \n",
    "# The file is avaialble in this notebook already. \n",
    "\n",
    "# # Convert Spam to word counts\n",
    "# spam = convert_to_word_counts('spam.csv',1)\n",
    "# ham = convert_to_word_counts('ham.csv',-1)\n",
    "\n",
    "# combined_df = pd.concat([spam, ham], ignore_index=True, sort=False)\n",
    "# # Fill NaN values with zeros and make sure the counts are integers\n",
    "# combined_df = combined_df.fillna(0).astype(int)\n",
    "\n",
    "# # Calculate the sum of each column\n",
    "# column_sums = combined_df.sum()\n",
    "# # Sort the columns by their total, excluding the 'Prediction' column\n",
    "# sorted_columns = column_sums.drop('Prediction').sort_values(ascending=False).index\n",
    "# # Keep only the top 5000 columns\n",
    "# top_columns = sorted_columns[:5000]\n",
    "# # Add back in the label column\n",
    "# top_columns = top_columns.insert(len(top_columns), 'Prediction')\n",
    "# # Reset the dataframe based on the top columns\n",
    "# top_5000_words_df = combined_df[top_columns]\n",
    "\n",
    "# top_5000_words_df.to_csv(\"emails_word_count.csv\", index=False)"
   ]
  },
  {
   "cell_type": "markdown",
   "id": "077418ce",
   "metadata": {},
   "source": [
    "Running this script results in an email file with 9,348 emails and the top 5,000 words from those emails. "
   ]
  },
  {
   "cell_type": "code",
   "execution_count": 16,
   "id": "d082f514",
   "metadata": {},
   "outputs": [],
   "source": [
    "# Read the data\n",
    "data = pd.read_csv(\"emails_word_count.csv\")"
   ]
  },
  {
   "cell_type": "code",
   "execution_count": 17,
   "id": "9073df43",
   "metadata": {},
   "outputs": [
    {
     "data": {
      "text/html": [
       "<div>\n",
       "<style scoped>\n",
       "    .dataframe tbody tr th:only-of-type {\n",
       "        vertical-align: middle;\n",
       "    }\n",
       "\n",
       "    .dataframe tbody tr th {\n",
       "        vertical-align: top;\n",
       "    }\n",
       "\n",
       "    .dataframe thead th {\n",
       "        text-align: right;\n",
       "    }\n",
       "</style>\n",
       "<table border=\"1\" class=\"dataframe\">\n",
       "  <thead>\n",
       "    <tr style=\"text-align: right;\">\n",
       "      <th></th>\n",
       "      <th>the</th>\n",
       "      <th>to</th>\n",
       "      <th>a</th>\n",
       "      <th>and</th>\n",
       "      <th>of</th>\n",
       "      <th>in</th>\n",
       "      <th>for</th>\n",
       "      <th>td</th>\n",
       "      <th>is</th>\n",
       "      <th>you</th>\n",
       "      <th>...</th>\n",
       "      <th>feedbackgeneral</th>\n",
       "      <th>catalog</th>\n",
       "      <th>bordertrtdp</th>\n",
       "      <th>invalid</th>\n",
       "      <th>bookabr</th>\n",
       "      <th>stylebackgroundposition</th>\n",
       "      <th>strings</th>\n",
       "      <th>workgroupabr</th>\n",
       "      <th>ar</th>\n",
       "      <th>Prediction</th>\n",
       "    </tr>\n",
       "  </thead>\n",
       "  <tbody>\n",
       "    <tr>\n",
       "      <th>0</th>\n",
       "      <td>21</td>\n",
       "      <td>14</td>\n",
       "      <td>5</td>\n",
       "      <td>14</td>\n",
       "      <td>10</td>\n",
       "      <td>5</td>\n",
       "      <td>7</td>\n",
       "      <td>0</td>\n",
       "      <td>11</td>\n",
       "      <td>21</td>\n",
       "      <td>...</td>\n",
       "      <td>0</td>\n",
       "      <td>0</td>\n",
       "      <td>0</td>\n",
       "      <td>0</td>\n",
       "      <td>0</td>\n",
       "      <td>0</td>\n",
       "      <td>0</td>\n",
       "      <td>0</td>\n",
       "      <td>0</td>\n",
       "      <td>1</td>\n",
       "    </tr>\n",
       "    <tr>\n",
       "      <th>1</th>\n",
       "      <td>5</td>\n",
       "      <td>6</td>\n",
       "      <td>2</td>\n",
       "      <td>4</td>\n",
       "      <td>3</td>\n",
       "      <td>4</td>\n",
       "      <td>2</td>\n",
       "      <td>6</td>\n",
       "      <td>3</td>\n",
       "      <td>7</td>\n",
       "      <td>...</td>\n",
       "      <td>0</td>\n",
       "      <td>0</td>\n",
       "      <td>0</td>\n",
       "      <td>0</td>\n",
       "      <td>0</td>\n",
       "      <td>0</td>\n",
       "      <td>0</td>\n",
       "      <td>0</td>\n",
       "      <td>0</td>\n",
       "      <td>1</td>\n",
       "    </tr>\n",
       "    <tr>\n",
       "      <th>2</th>\n",
       "      <td>21</td>\n",
       "      <td>11</td>\n",
       "      <td>7</td>\n",
       "      <td>7</td>\n",
       "      <td>3</td>\n",
       "      <td>6</td>\n",
       "      <td>4</td>\n",
       "      <td>0</td>\n",
       "      <td>5</td>\n",
       "      <td>12</td>\n",
       "      <td>...</td>\n",
       "      <td>0</td>\n",
       "      <td>0</td>\n",
       "      <td>0</td>\n",
       "      <td>0</td>\n",
       "      <td>0</td>\n",
       "      <td>0</td>\n",
       "      <td>0</td>\n",
       "      <td>0</td>\n",
       "      <td>0</td>\n",
       "      <td>1</td>\n",
       "    </tr>\n",
       "    <tr>\n",
       "      <th>3</th>\n",
       "      <td>4</td>\n",
       "      <td>2</td>\n",
       "      <td>1</td>\n",
       "      <td>0</td>\n",
       "      <td>1</td>\n",
       "      <td>1</td>\n",
       "      <td>1</td>\n",
       "      <td>0</td>\n",
       "      <td>0</td>\n",
       "      <td>2</td>\n",
       "      <td>...</td>\n",
       "      <td>0</td>\n",
       "      <td>0</td>\n",
       "      <td>0</td>\n",
       "      <td>0</td>\n",
       "      <td>0</td>\n",
       "      <td>0</td>\n",
       "      <td>0</td>\n",
       "      <td>0</td>\n",
       "      <td>0</td>\n",
       "      <td>1</td>\n",
       "    </tr>\n",
       "    <tr>\n",
       "      <th>4</th>\n",
       "      <td>4</td>\n",
       "      <td>2</td>\n",
       "      <td>1</td>\n",
       "      <td>0</td>\n",
       "      <td>1</td>\n",
       "      <td>1</td>\n",
       "      <td>0</td>\n",
       "      <td>0</td>\n",
       "      <td>0</td>\n",
       "      <td>2</td>\n",
       "      <td>...</td>\n",
       "      <td>0</td>\n",
       "      <td>0</td>\n",
       "      <td>0</td>\n",
       "      <td>0</td>\n",
       "      <td>0</td>\n",
       "      <td>0</td>\n",
       "      <td>0</td>\n",
       "      <td>0</td>\n",
       "      <td>0</td>\n",
       "      <td>1</td>\n",
       "    </tr>\n",
       "  </tbody>\n",
       "</table>\n",
       "<p>5 rows × 5001 columns</p>\n",
       "</div>"
      ],
      "text/plain": [
       "   the  to  a  and  of  in  for  td  is  you  ...  feedbackgeneral  catalog   \n",
       "0   21  14  5   14  10   5    7   0  11   21  ...                0        0  \\\n",
       "1    5   6  2    4   3   4    2   6   3    7  ...                0        0   \n",
       "2   21  11  7    7   3   6    4   0   5   12  ...                0        0   \n",
       "3    4   2  1    0   1   1    1   0   0    2  ...                0        0   \n",
       "4    4   2  1    0   1   1    0   0   0    2  ...                0        0   \n",
       "\n",
       "   bordertrtdp  invalid  bookabr  stylebackgroundposition  strings   \n",
       "0            0        0        0                        0        0  \\\n",
       "1            0        0        0                        0        0   \n",
       "2            0        0        0                        0        0   \n",
       "3            0        0        0                        0        0   \n",
       "4            0        0        0                        0        0   \n",
       "\n",
       "   workgroupabr  ar  Prediction  \n",
       "0             0   0           1  \n",
       "1             0   0           1  \n",
       "2             0   0           1  \n",
       "3             0   0           1  \n",
       "4             0   0           1  \n",
       "\n",
       "[5 rows x 5001 columns]"
      ]
     },
     "execution_count": 17,
     "metadata": {},
     "output_type": "execute_result"
    }
   ],
   "source": [
    "data.head()"
   ]
  },
  {
   "cell_type": "code",
   "execution_count": 18,
   "id": "50fd92bf",
   "metadata": {},
   "outputs": [],
   "source": [
    "# Define y as the classifier\n",
    "y = data['Prediction']\n",
    "\n",
    "# Define X as the word counts\n",
    "X = data.iloc[:, :-1]\n",
    "\n",
    "# Split the data into test and training\n",
    "X_train_raw, X_test_raw, y_train, y_test = train_test_split(X, y, test_size=0.2, random_state=1)"
   ]
  },
  {
   "cell_type": "markdown",
   "id": "4c5aa3a8",
   "metadata": {},
   "source": [
    "Return the word counts into text to make sure word order is held constant"
   ]
  },
  {
   "cell_type": "code",
   "execution_count": 19,
   "id": "b7708aa0",
   "metadata": {},
   "outputs": [],
   "source": [
    "# Replace the words counts with the actual words to prepare for the next step\n",
    "X_train_words = X_train_raw.apply(word_count_to_text, axis=1)\n",
    "X_test_words = X_test_raw.apply(word_count_to_text, axis=1)"
   ]
  },
  {
   "cell_type": "markdown",
   "id": "9364fec3",
   "metadata": {},
   "source": [
    "# Exploratory Data Analysis\n",
    "\n",
    "The same analysis performed above was repeated to review the emails. "
   ]
  },
  {
   "cell_type": "code",
   "execution_count": 20,
   "id": "5f290e2d",
   "metadata": {},
   "outputs": [
    {
     "data": {
      "text/plain": [
       "'the the the to to of in for you you you i this if list list get free use like information please linux these group users link down below support irish might days offer wish maintainer unsubscription listmasterlinuxie legal thought risk guaranteed lose manager social leave events advice deserve fight child sociallinuxie cancer httpwwwlinuxiemailmanlistinfosocial'"
      ]
     },
     "execution_count": 20,
     "metadata": {},
     "output_type": "execute_result"
    }
   ],
   "source": [
    "X_train_words[8]"
   ]
  },
  {
   "cell_type": "code",
   "execution_count": 21,
   "id": "af4351a2",
   "metadata": {},
   "outputs": [
    {
     "data": {
      "text/plain": [
       "'contenttype contenttransferencoding charsetiso texthtml base'"
      ]
     },
     "execution_count": 21,
     "metadata": {},
     "output_type": "execute_result"
    }
   ],
   "source": [
    "X_train_words[80]"
   ]
  },
  {
   "cell_type": "code",
   "execution_count": 22,
   "id": "22845b8a",
   "metadata": {},
   "outputs": [
    {
     "data": {
      "text/plain": [
       "'the to a a for for for you you your your can more out just just free free free free use here even find day day link life off below top unsubscribe price working save save big insurance hours allow rate removal mortgage quote quote quote lower regular payment andor warranty older extend cars cars'"
      ]
     },
     "execution_count": 22,
     "metadata": {},
     "output_type": "execute_result"
    }
   ],
   "source": [
    "X_train_words[800]"
   ]
  },
  {
   "cell_type": "code",
   "execution_count": 23,
   "id": "96ef50cd",
   "metadata": {},
   "outputs": [
    {
     "data": {
      "text/plain": [
       "'the the the the the the the the the the the to to to to to to to to to a a a a and and and and and and and and and and of of of of in in in in in for for for for is is is is is you that that that that i i i i i i i this it it it it with with with with with on on from from from from from from from from from be by by by by are or as as have have not not not all but can can an list list list was my my my my more its no no out get received received received what there like id id id date dont message message other how than subject mailing mailing also he then sep sep sep sep sep sep into wrote most had software even need said much users those those very very messageid bulk sender re being two esmtp smtp smtp precedence too server xmailmanversion xbeenthere errorsto listid link mon mon mon read exmh exmh exmh code problem listunsubscribe network sure listsubscribe listpost listhelp listarchive cant x x x x x discussion days things things long replyto text fri fri inreplyto inreplyto different required references exmhusersredhatcom exmhusersredhatcom exmhusersredhatcom exmhusersredhatcom exmhusersredhatcom sun copy inc lot seems either everything bad hits upon worlds tried window window xspamstatus words exmhusersexamplecom exmhusersexamplecom exmhusersexamplecom exmhusersexamplecom exmhusersexamplecom mark xspamlevel versioncvs recently xloop comments human intmxcorpredhatcom longer mxexamplecom mxexamplecom across mxredhatcom early completely programming storage versions model model cut contents exmhusers exmhusers httpslistmanredhatcommailmanlistinfoexmhusers httpslistmanredhatcommailmanlistinfoexmhusers tony tony tony tony tony tony previous trouble handle mailtoexmhusersrequestredhatcomsubjectsubscribe mailtoexmhusersrequestredhatcomsubjectunsubscribe paste paste exmhusersadminexamplecom exmhusersadminexamplecom httpslistmanexamplecommailmanlistinfoexmhusers httpslistmanexamplecommailmanlistinfoexmhusers mostly brent brent brent xurl buffer brain apps models models welch welch welchpanasascom welchpanasascom empty fails hal hal hal normally dated feeling vice terminal stick junk complex httpslistmanexamplecommailmanprivateexmhusers mailtoexmhusersexamplecom mailtoexmhusersrequestexamplecomsubjecthelp tries dealing blackcombpanasascom blackcombpanasascom xface devore devore copying historical sophisticated displayed dimebox dimebox haldevoreacmorg scalable architect'"
      ]
     },
     "execution_count": 23,
     "metadata": {},
     "output_type": "execute_result"
    }
   ],
   "source": [
    "X_train_words[8000]"
   ]
  },
  {
   "cell_type": "code",
   "execution_count": 24,
   "id": "32d19060",
   "metadata": {},
   "outputs": [
    {
     "data": {
      "image/png": "[encoded data removed]",
      "text/plain": [
       "<Figure size 1500x500 with 1 Axes>"
      ]
     },
     "metadata": {},
     "output_type": "display_data"
    }
   ],
   "source": [
    "word_counts = data.sum(axis=0)\n",
    "word_counts_50 = word_counts[:50]\n",
    "\n",
    "plt.figure(figsize=(15, 5))\n",
    "plt.bar(word_counts_50.index, word_counts_50.values)\n",
    "plt.xlabel('Words')\n",
    "plt.ylabel('Counts')\n",
    "plt.title('Word Counts for most common 50 Words')\n",
    "plt.xticks(rotation=45)\n",
    "plt.show()"
   ]
  },
  {
   "cell_type": "code",
   "execution_count": 25,
   "id": "13661715",
   "metadata": {},
   "outputs": [],
   "source": [
    "\n",
    "# Tokenize the text for the tokenized model\n",
    "X_train_token = X_train_words.apply(tokenize_text)\n",
    "X_test_token = X_test_words.apply(tokenize_text)\n",
    "\n",
    "# Now that the text is in tokens, it needs to be put back into counts in order to be accessible to the models.\n",
    "vectorizer = CountVectorizer()\n",
    "X_train_vect = vectorizer.fit_transform(X_train_token)\n",
    "X_test_vect = vectorizer.transform(X_test_token)"
   ]
  },
  {
   "cell_type": "markdown",
   "id": "77b38b8a",
   "metadata": {},
   "source": [
    "# Models\n",
    "\n",
    "3 different models were used for this evaluation. KNN, an AdaBoost ensemble decision tree, and a Support Vector Machine. \n",
    "All three models are applied to both the Raw text emails and the the tokenized data. This should provide an apples to apple comparison of whether or not tokenization of the English language can help with extracting the meaning from the text and thereby increase the ability to determine spam from the language used."
   ]
  },
  {
   "cell_type": "code",
   "execution_count": 26,
   "id": "c129ef9a",
   "metadata": {},
   "outputs": [],
   "source": [
    "model_results = pd.DataFrame(columns=['Accuracy', 'Precision', 'Recall', 'F1 Score'], \n",
    "                             index=['KNN Words', 'KNN Tokens', 'AdaBoost Words', 'AdaBoost Tokens', 'SVM Words', 'SVM Tokens'])"
   ]
  },
  {
   "cell_type": "code",
   "execution_count": 27,
   "id": "be27f257",
   "metadata": {},
   "outputs": [],
   "source": [
    "# Model the data using KNN and evaluate the model\n",
    "raw_model = KNeighborsClassifier(n_neighbors=5)\n",
    "raw_model.fit(X_train_raw, y_train)\n",
    "y_pred = raw_model.predict(X_test_raw)\n",
    "\n",
    "accuracy = accuracy_score(y_test, y_pred)\n",
    "precision = precision_score(y_test, y_pred)\n",
    "recall = recall_score(y_test, y_pred)\n",
    "f1 = f1_score(y_test, y_pred)\n",
    "\n",
    "model_results.loc['KNN Words'] = [accuracy, precision, recall, f1]"
   ]
  },
  {
   "cell_type": "code",
   "execution_count": 28,
   "id": "5aa764d2",
   "metadata": {},
   "outputs": [],
   "source": [
    "# Rebuild the model using the tokenized counts\n",
    "token_model = KNeighborsClassifier(n_neighbors=5)\n",
    "token_model.fit(X_train_vect, y_train)\n",
    "y_pred = token_model.predict(X_test_vect)\n",
    "\n",
    "accuracy = accuracy_score(y_test, y_pred)\n",
    "precision = precision_score(y_test, y_pred)\n",
    "recall = recall_score(y_test, y_pred)\n",
    "f1 = f1_score(y_test, y_pred)\n",
    "\n",
    "model_results.loc['KNN Tokens'] = [accuracy, precision, recall, f1]"
   ]
  },
  {
   "cell_type": "code",
   "execution_count": 29,
   "id": "376bc2b1",
   "metadata": {},
   "outputs": [],
   "source": [
    "# Also try with AdaBoost\n",
    "raw_model = AdaBoostClassifier(n_estimators=100)\n",
    "raw_model.fit(X_train_raw, y_train)\n",
    "y_pred = raw_model.predict(X_test_raw)\n",
    "\n",
    "accuracy = accuracy_score(y_test, y_pred)\n",
    "precision = precision_score(y_test, y_pred)\n",
    "recall = recall_score(y_test, y_pred)\n",
    "f1 = f1_score(y_test, y_pred)\n",
    "\n",
    "model_results.loc['AdaBoost Words'] = [accuracy, precision, recall, f1]"
   ]
  },
  {
   "cell_type": "code",
   "execution_count": 30,
   "id": "e8e4e2d7",
   "metadata": {},
   "outputs": [],
   "source": [
    "# Rebuild the model using the tokenized counts\n",
    "token_model = AdaBoostClassifier(n_estimators=100)\n",
    "token_model.fit(X_train_vect, y_train)\n",
    "y_pred = token_model.predict(X_test_vect)\n",
    "\n",
    "accuracy = accuracy_score(y_test, y_pred)\n",
    "precision = precision_score(y_test, y_pred)\n",
    "recall = recall_score(y_test, y_pred)\n",
    "f1 = f1_score(y_test, y_pred)\n",
    "\n",
    "model_results.loc['AdaBoost Tokens'] = [accuracy, precision, recall, f1]"
   ]
  },
  {
   "cell_type": "markdown",
   "id": "c57c7ee2",
   "metadata": {},
   "source": [
    "# Tuning\n",
    "For the SVC model, c and gamma were tuned based on the smaller test subset\n",
    "\n",
    "## Warning, the next cell will result in extremely long runtimes to process all of the data. \n",
    "\n",
    "Skipping these cells will not cause any problems later on in the notebook. "
   ]
  },
  {
   "cell_type": "code",
   "execution_count": 34,
   "id": "d7ada6c0",
   "metadata": {},
   "outputs": [
    {
     "name": "stdout",
     "output_type": "stream",
     "text": [
      "Fitting 3 folds for each of 25 candidates, totalling 75 fits\n",
      "\n"
     ]
    }
   ],
   "source": [
    "C_range = np.logspace(-5, 5, num=5, base=2)\n",
    "gamma_range = np.logspace(-5, 5, num=5, base=2)\n",
    "\n",
    "param_grid = {\n",
    "    'C': C_range,\n",
    "    'gamma': gamma_range,\n",
    "}\n",
    "\n",
    "grid = GridSearchCV(estimator=svm.SVC(), param_grid=param_grid, cv=3, n_jobs=-1, verbose=2)\n",
    "grid.fit(X_test_raw,y_test)\n",
    "print() "
   ]
  },
  {
   "cell_type": "code",
   "execution_count": 31,
   "id": "a12b565c",
   "metadata": {},
   "outputs": [],
   "source": [
    "# From Week 6 homework\n",
    "class MidpointNormalize(Normalize):\n",
    "\n",
    "    def __init__(self, vmin=None, vmax=None, midpoint=None, clip=False):\n",
    "        self.midpoint = midpoint\n",
    "        Normalize.__init__(self, vmin, vmax, clip)\n",
    "\n",
    "    def __call__(self, value, clip=None):\n",
    "        x, y = [self.vmin, self.midpoint, self.vmax], [0, 0.5, 1]\n",
    "        return np.ma.masked_array(np.interp(value, x, y))\n",
    "    \n",
    "def plotSearchGrid(grid):\n",
    "    \n",
    "    scores = [x for x in grid.cv_results_[\"mean_test_score\"]]\n",
    "    scores = np.array(scores).reshape(len(grid.param_grid[\"C\"]), len(grid.param_grid[\"gamma\"]))\n",
    "\n",
    "    plt.figure(figsize=(10, 8))\n",
    "    plt.subplots_adjust(left=.2, right=0.95, bottom=0.15, top=0.95)\n",
    "    plt.imshow(scores, interpolation='nearest', cmap=plt.cm.hot,\n",
    "               norm=MidpointNormalize(vmin=0.2, midpoint=0.92))\n",
    "    plt.xlabel('gamma')\n",
    "    plt.ylabel('C')\n",
    "    plt.colorbar()\n",
    "    plt.xticks(np.arange(len(grid.param_grid[\"gamma\"])), grid.param_grid[\"gamma\"], rotation=45)\n",
    "    plt.yticks(np.arange(len(grid.param_grid[\"C\"])), grid.param_grid[\"C\"])\n",
    "    plt.title('Validation accuracy')\n",
    "    plt.show()"
   ]
  },
  {
   "cell_type": "code",
   "execution_count": 35,
   "id": "17df48cb",
   "metadata": {},
   "outputs": [
    {
     "data": {
      "image/png": "[encoded data removed]",
      "text/plain": [
       "<Figure size 1000x800 with 2 Axes>"
      ]
     },
     "metadata": {},
     "output_type": "display_data"
    }
   ],
   "source": [
    "plotSearchGrid(grid)"
   ]
  },
  {
   "cell_type": "markdown",
   "id": "6971f172",
   "metadata": {},
   "source": [
    "However, this did not result in distinguishable differences between the different models, so was not useful in choosing C or gamma. As a result, the default values were used. "
   ]
  },
  {
   "cell_type": "code",
   "execution_count": 37,
   "id": "908897d7",
   "metadata": {},
   "outputs": [],
   "source": [
    "# Also try with SVM\n",
    "raw_model = svm.SVC()\n",
    "raw_model.fit(X_train_raw, y_train)\n",
    "y_pred = raw_model.predict(X_test_raw)\n",
    "\n",
    "accuracy = accuracy_score(y_test, y_pred)\n",
    "precision = precision_score(y_test, y_pred)\n",
    "recall = recall_score(y_test, y_pred)\n",
    "f1 = f1_score(y_test, y_pred)\n",
    "\n",
    "model_results.loc['SVM Words'] = [accuracy, precision, recall, f1]"
   ]
  },
  {
   "cell_type": "code",
   "execution_count": 38,
   "id": "be274441",
   "metadata": {},
   "outputs": [],
   "source": [
    "# Rebuild the model using the tokenized counts\n",
    "token_model = svm.SVC()\n",
    "token_model.fit(X_train_vect, y_train)\n",
    "y_pred = token_model.predict(X_test_vect)\n",
    "\n",
    "accuracy = accuracy_score(y_test, y_pred)\n",
    "precision = precision_score(y_test, y_pred)\n",
    "recall = recall_score(y_test, y_pred)\n",
    "f1 = f1_score(y_test, y_pred)\n",
    "\n",
    "model_results.loc['SVM Tokens'] = [accuracy, precision, recall, f1]"
   ]
  },
  {
   "cell_type": "markdown",
   "id": "e7ab0e6c",
   "metadata": {},
   "source": [
    "# Results\n",
    "\n",
    "The tokenization of the email text results were quite mixed. With KNN, the tokenization of the text resulted in greater accuracy of the predictions. For the other two models, the tokenization of the language did not result in an increase in the ability to predict Spam from the text of the email. In particular, the SVM model suffered a major loss in recall by breaking the emails into tokens. \n",
    "\n"
   ]
  },
  {
   "cell_type": "code",
   "execution_count": 44,
   "id": "a8e61d87",
   "metadata": {},
   "outputs": [
    {
     "data": {
      "image/png": "[encoded data removed]",
      "text/plain": [
       "<Figure size 640x480 with 1 Axes>"
      ]
     },
     "metadata": {},
     "output_type": "display_data"
    }
   ],
   "source": [
    "# Force the model results datatype to numbers since they started as an object\n",
    "model_results = model_results.apply(pd.to_numeric, errors='coerce')\n",
    "\n",
    "# Colormap\n",
    "colors = [\"white\", \"red\", \"purple\", 'blue']\n",
    "cmap = mcolors.LinearSegmentedColormap.from_list(\"\", colors)\n",
    "\n",
    "# Heatmap\n",
    "fig, ax = plt.subplots()\n",
    "ax.imshow(model_results, cmap=cmap)\n",
    "\n",
    "# Cell values as text\n",
    "for i in range(model_results.shape[0]):\n",
    "    for j in range(model_results.shape[1]):\n",
    "        ax.text(j, i, round(model_results.iloc[i, j], 2), ha=\"center\", va=\"center\", color=\"black\")\n",
    "\n",
    "# labels\n",
    "ax.set_xticks(np.arange(model_results.shape[1]))\n",
    "ax.set_yticks(np.arange(model_results.shape[0]))\n",
    "ax.set_xticklabels(model_results.columns)\n",
    "ax.set_yticklabels(model_results.index)\n",
    "\n",
    "# Show the plot\n",
    "plt.show()"
   ]
  },
  {
   "cell_type": "markdown",
   "id": "47c77042",
   "metadata": {},
   "source": [
    "# Conclusion"
   ]
  },
  {
   "cell_type": "markdown",
   "id": "4e4ff184",
   "metadata": {},
   "source": [
    "Attempting to tokenize the specific word count of emails while keeping all other factors constant did not result in a significant or clear increase in accuracy by any consistent measure. Surprisingly, I also found it odd that tokenizing the language led to worse spam detection in most cases. My initial assumption was that tokenizing the language would group together similar words and increase the value of a word-by-word classification. However, this appears not to be the case.\n",
    "\n",
    "One theory I have to explain this is that the tokenization process might be adding information to misspelled or fragmented words. One of the goals of tokenizing is to impute meaning from poorly communicated information, and maybe the spam emails are benefitting from the \"good will\" attempts to correct language by the language model that would otherwise be picked up by a traditional bag of words approach.\n",
    "\n",
    "It was crucial to see that the first dataset was not representative of language. An inherent problem in more sophisticated statistical analysis is that converting the information into higher-order systems, such as word counts or even vectors of tokens, makes these systems more challenging to monitor as a researcher. If the data were mangled by a poorly written python script and simultaneously converted to tokens, it would be somewhat difficult to detect since the tokenization is not human-readable. Perhaps an AI monitoring the process can help, or there may be techniques of which I am not aware, but at the very least, this is a problem in need of a solution."
   ]
  }
 ],
 "metadata": {
  "kernelspec": {
   "display_name": "Python 3 (ipykernel)",
   "language": "python",
   "name": "python3"
  },
  "language_info": {
   "codemirror_mode": {
    "name": "ipython",
    "version": 3
   },
   "file_extension": ".py",
   "mimetype": "text/x-python",
   "name": "python",
   "nbconvert_exporter": "python",
   "pygments_lexer": "ipython3",
   "version": "3.11.3"
  }
 },
 "nbformat": 4,
 "nbformat_minor": 5
}
